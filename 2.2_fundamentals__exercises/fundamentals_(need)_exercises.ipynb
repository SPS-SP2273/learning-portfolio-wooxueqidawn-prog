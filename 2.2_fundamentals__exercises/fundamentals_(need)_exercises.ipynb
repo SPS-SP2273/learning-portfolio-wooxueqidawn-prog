{
 "cells": [
  {
   "attachments": {},
   "cell_type": "markdown",
   "id": "123456",
   "metadata": {},
   "source": [
    "<div style=\"text-align:left;font-size:2em\"><span style=\"font-weight:bolder;font-size:1.25em\">SP2273 | Learning Portfolio</span><br><br><span style=\"font-weight:bold;color:darkred\">Fundamentals (Need) Exercises</span></div>"
   ]
  },
  {
   "cell_type": "markdown",
   "id": "c74b108c",
   "metadata": {},
   "source": [
    "## Exercise 1\n",
    "\n",
    "Math, Numpy, F string, lists, functions, variables, indentations, arguments, comments\n",
    "*Interpreter, python being case sensitive, = vs ==, use of if elif and else, indentations being important, brackets, the dot to indicate ownership*"
   ]
  },
  {
   "cell_type": "markdown",
   "id": "2eaf4543",
   "metadata": {},
   "source": [
    "### Corrections\n",
    "- Math \n",
    "- Numpy\n",
    "- F string\n",
    "- Lists \n",
    "- Functions\n",
    "- Variables\n",
    "- Indentations\n",
    "- Arguments\n",
    "- Comments\n",
    "- *Interpreter*\n",
    "- *Python being case sensitive*\n",
    "- *= vs ==*\n",
    "- *use of if elif and else*\n",
    "- *identations being important*\n",
    "- *the dot to indicate ownership*\n",
    "\n",
    "\n"
   ]
  },
  {
   "cell_type": "markdown",
   "id": "aec4ff0c",
   "metadata": {},
   "source": [
    "## Exercise 2"
   ]
  },
  {
   "cell_type": "code",
   "execution_count": 2,
   "id": "a9c47176",
   "metadata": {},
   "outputs": [
    {
     "name": "stdout",
     "output_type": "stream",
     "text": [
      "3 4 5.0\n"
     ]
    }
   ],
   "source": [
    "import math\n",
    "x, y = 3, 4\n",
    "z = math.sqrt(x**2 + y**2)\n",
    "print(x, y, z)"
   ]
  },
  {
   "cell_type": "markdown",
   "id": "2765125f",
   "metadata": {},
   "source": [
    "## Exercise 3\n",
    "\n",
    "| #  | Term         | Description  |\n",
    "|----|--------------|--------------|\n",
    "| 1  | Function     |Allows you to store sections of code within it, so it only does that specific task that is indicated by that particular section of code|\n",
    "| 2  | Argument     |the things in the function, they can be strings, integers, floats, variables etc, e.g. print('a, b, c') then print is the function and the variables a, b and c are the arguments |\n",
    "| 3  | Comments     |Allows us to take notes / additional information in the code, without affecting the running of the code, so python ignores all comments and comments are meant for our understanding|\n",
    "| 4  | Indentations |Affects which part of code is under, e.g. any code written in the if indented part will only be ran if that condition is true|\n",
    "| 5  | Packages     |Python is very basic so it is unable to execute any mathematical functions without the importation of math / numpy packages|\n",
    "| 6  | .            |Shows ownership, e.g. the square root function belongs to the math package hence math.sqrt|\n",
    "| 7  | :            |signifies the begning of a new block of code, typically used after if, elif, else statements etc etc |\n",
    "| 8  | []           |capable of storing lists|\n",
    "| 9  | [[],[]]      |capable of storing lists within lists|\n",
    "| 10 | {}           |capable of storing things in a dictionary, and then we can pull out those things by printing out the section the things are stored in|"
   ]
  },
  {
   "cell_type": "markdown",
   "id": "64aeff4d",
   "metadata": {},
   "source": [
    "## Exercise 4"
   ]
  },
  {
   "cell_type": "code",
   "execution_count": null,
   "id": "a10339a4",
   "metadata": {},
   "outputs": [
    {
     "name": "stdout",
     "output_type": "stream",
     "text": [
      "2.5\n",
      "3\n",
      "1\n"
     ]
    },
    {
     "data": {
      "text/plain": [
       "1"
      ]
     },
     "execution_count": 28,
     "metadata": {},
     "output_type": "execute_result"
    }
   ],
   "source": [
    "print(5/2)\n",
    "print(10//3)\n",
    "print(7%3)\n",
    "\n",
    "5/2 #this results in 5 divided by 2, in decimal form.\n",
    "\n",
    "5//2 #this results in 5 divided by 2,\n",
    "#but only rounds down to the integer portion, \n",
    "#regardless of how large the decimal place is\n",
    "\n",
    "5%2 #this results in 5 divided by 2, \n",
    "#and only the remainder of 1 is shown."
   ]
  }
 ],
 "metadata": {
  "kernelspec": {
   "display_name": "base",
   "language": "python",
   "name": "python3"
  },
  "language_info": {
   "codemirror_mode": {
    "name": "ipython",
    "version": 3
   },
   "file_extension": ".py",
   "mimetype": "text/x-python",
   "name": "python",
   "nbconvert_exporter": "python",
   "pygments_lexer": "ipython3",
   "version": "3.13.5"
  },
  "toc": {
   "base_numbering": 1,
   "nav_menu": {},
   "number_sections": true,
   "sideBar": true,
   "skip_h1_title": false,
   "title_cell": "Table of Contents",
   "title_sidebar": "Contents",
   "toc_cell": false,
   "toc_position": {},
   "toc_section_display": true,
   "toc_window_display": false
  }
 },
 "nbformat": 4,
 "nbformat_minor": 5
}
