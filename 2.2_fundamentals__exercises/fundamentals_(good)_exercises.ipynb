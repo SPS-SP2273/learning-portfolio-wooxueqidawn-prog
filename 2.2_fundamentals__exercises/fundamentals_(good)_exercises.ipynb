{
 "cells": [
  {
   "cell_type": "markdown",
   "id": "6e38b09b",
   "metadata": {},
   "source": [
    "## Excersise 1"
   ]
  },
  {
   "cell_type": "markdown",
   "id": "7fcccfee",
   "metadata": {},
   "source": [
    "### Task 1"
   ]
  },
  {
   "cell_type": "code",
   "execution_count": 3,
   "id": "f074d23a",
   "metadata": {},
   "outputs": [
    {
     "name": "stdout",
     "output_type": "stream",
     "text": [
      "How you doing dawn!\n"
     ]
    }
   ],
   "source": [
    "user_name = input(\"Please provide me with your name!\")\n",
    "print(\"How you doing\", user_name + '!')"
   ]
  },
  {
   "cell_type": "markdown",
   "id": "ed0c2e96",
   "metadata": {},
   "source": [
    "### Task 2"
   ]
  },
  {
   "cell_type": "code",
   "execution_count": 4,
   "id": "bfedb324",
   "metadata": {},
   "outputs": [
    {
     "name": "stdout",
     "output_type": "stream",
     "text": [
      "My name is dawn and I am 12 years old.\n"
     ]
    }
   ],
   "source": [
    "user_name = input(\"Please provide me with your name!\")\n",
    "user_age = input(\"Please provide me with your age!\")\n",
    "\n",
    "print(\"My name is\", user_name, \"and I am\", user_age, \"years old.\")"
   ]
  },
  {
   "cell_type": "markdown",
   "id": "e46294d8",
   "metadata": {},
   "source": [
    "### Task 3"
   ]
  },
  {
   "cell_type": "code",
   "execution_count": 1,
   "id": "3461f3ed",
   "metadata": {},
   "outputs": [
    {
     "name": "stdout",
     "output_type": "stream",
     "text": [
      "The value of pi to 2 decimal places is: 3.14\n",
      "The value of pi to 3 decimal places is: 3.142\n",
      "The value of pi to 4 decimal places is: 3.1416\n"
     ]
    }
   ],
   "source": [
    "pi = 3.141592653589793\n",
    "print(f'The value of pi to 2 decimal places is: {pi:.2f}')\n",
    "\n",
    "print(f'The value of pi to 3 decimal places is: {pi:.3f}')\n",
    "\n",
    "print(f'The value of pi to 4 decimal places is: {pi:.4f}')"
   ]
  },
  {
   "cell_type": "markdown",
   "id": "9588a80a",
   "metadata": {},
   "source": [
    "### Task 4"
   ]
  },
  {
   "cell_type": "code",
   "execution_count": 2,
   "id": "2d8b4641",
   "metadata": {},
   "outputs": [
    {
     "name": "stdout",
     "output_type": "stream",
     "text": [
      "Apple      $ 0.99\n",
      "Banana     $ 0.59\n",
      "Orange     $ 1.29\n",
      "********** $*****\n"
     ]
    }
   ],
   "source": [
    "print(\"Apple\", f'{\"$ 0.99\":>11}')\n",
    "print(\"Banana\", f'{\"$ 0.59\":>10}')\n",
    "print(\"Orange\", f'{\"$ 1.29\":>10}')\n",
    "print(\"********** $*****\")\n"
   ]
  },
  {
   "cell_type": "markdown",
   "id": "f1ea5001",
   "metadata": {},
   "source": [
    "## Exercise 2"
   ]
  },
  {
   "cell_type": "code",
   "execution_count": 4,
   "id": "095fbba2",
   "metadata": {},
   "outputs": [
    {
     "name": "stdout",
     "output_type": "stream",
     "text": [
      "The student's letter grade is: A\n"
     ]
    }
   ],
   "source": [
    "user_score = int(input(\"Please input your numerical grade!\"))\n",
    "if user_score <= 100 and user_score >= 70:\n",
    "    print(\"The student's letter grade is: A\")\n",
    "elif user_score < 70 and user_score >= 50:\n",
    "    print(\"The student's letter grade is: B\")\n",
    "elif user_score < 50 and user_score >= 35:\n",
    "    print(\"The student's letter grade is: C\")\n",
    "elif user_score < 35:\n",
    "    print(\"The student's grade is: Fail\")\n",
    "else:\n",
    "    print(\"Please input a number from 0 to 100 inclusive.\")"
   ]
  },
  {
   "cell_type": "markdown",
   "id": "fe46c089",
   "metadata": {},
   "source": [
    "### edited work "
   ]
  },
  {
   "cell_type": "code",
   "execution_count": 7,
   "id": "479c58f2",
   "metadata": {},
   "outputs": [
    {
     "name": "stdout",
     "output_type": "stream",
     "text": [
      "The student's grade is: Fail\n"
     ]
    }
   ],
   "source": [
    "user_score = int(input(\"Please input your numerical grade!\"))\n",
    "if user_score <= 100 and user_score >= 70:\n",
    "    print(\"The student's letter grade is: A\")\n",
    "elif user_score < 70 and user_score >= 50:\n",
    "    print(\"The student's letter grade is: B\")\n",
    "elif user_score < 50 and user_score >= 35:\n",
    "    print(\"The student's letter grade is: C\")\n",
    "else: \n",
    "    print(\"The student's grade is: Fail\")\n"
   ]
  },
  {
   "cell_type": "markdown",
   "id": "450fe10b",
   "metadata": {},
   "source": [
    "## Exercise 3"
   ]
  },
  {
   "cell_type": "code",
   "execution_count": 8,
   "id": "c17573a6",
   "metadata": {},
   "outputs": [
    {
     "name": "stdout",
     "output_type": "stream",
     "text": [
      "120\n",
      "Invalid input\n"
     ]
    }
   ],
   "source": [
    "def factorial(n):\n",
    "    if n < 0:\n",
    "        return \"Invalid input\"\n",
    "    else:\n",
    "        result = 1\n",
    "        for number in range(1, n+1):\n",
    "            result *= number\n",
    "        return result\n",
    "\n",
    "\n",
    "print(factorial(5))   # Testing, expected output: 120\n",
    "print(factorial(-1))  # Testing, expected output: Invalid input"
   ]
  },
  {
   "cell_type": "markdown",
   "id": "35a2fc45",
   "metadata": {},
   "source": [
    "## edited work"
   ]
  },
  {
   "cell_type": "code",
   "execution_count": 10,
   "id": "3dd31666",
   "metadata": {},
   "outputs": [
    {
     "name": "stdout",
     "output_type": "stream",
     "text": [
      "120\n",
      "Invalid input\n",
      "1\n"
     ]
    }
   ],
   "source": [
    "def factorial(n):\n",
    "    if n < 0:\n",
    "        return \"Invalid input\"\n",
    "    elif n == 0:\n",
    "        return 1\n",
    "    else:\n",
    "        result = 1\n",
    "        for number in range(1, n+1):\n",
    "            result *= number\n",
    "        return result\n",
    "\n",
    "\n",
    "print(factorial(5))   # Testing, expected output: 120\n",
    "print(factorial(-1))  # Testing, expected output: Invalid input\n",
    "print(factorial(0))"
   ]
  }
 ],
 "metadata": {
  "kernelspec": {
   "display_name": "base",
   "language": "python",
   "name": "python3"
  },
  "language_info": {
   "codemirror_mode": {
    "name": "ipython",
    "version": 3
   },
   "file_extension": ".py",
   "mimetype": "text/x-python",
   "name": "python",
   "nbconvert_exporter": "python",
   "pygments_lexer": "ipython3",
   "version": "3.13.5"
  },
  "toc": {
   "base_numbering": 1,
   "nav_menu": {},
   "number_sections": true,
   "sideBar": true,
   "skip_h1_title": false,
   "title_cell": "Table of Contents",
   "title_sidebar": "Contents",
   "toc_cell": false,
   "toc_position": {},
   "toc_section_display": true,
   "toc_window_display": false
  }
 },
 "nbformat": 4,
 "nbformat_minor": 5
}
