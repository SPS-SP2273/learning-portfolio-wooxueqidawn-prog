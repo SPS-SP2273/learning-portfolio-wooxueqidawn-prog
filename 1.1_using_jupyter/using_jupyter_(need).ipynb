{
 "cells": [
  {
   "attachments": {},
   "cell_type": "markdown",
   "id": "123456",
   "metadata": {},
   "source": [
    "<div style=\"text-align:left;font-size:2em\"><span style=\"font-weight:bolder;font-size:1.25em\">SP2273 | Learning Portfolio</span><br><br><span style=\"font-weight:bold;color:darkred\">Using Jupyter (Need)</span></div>"
   ]
  },
  {
   "attachments": {},
   "cell_type": "markdown",
   "id": "123456",
   "metadata": {},
   "source": [
    "# What to expect in this chapter"
   ]
  },
  {
   "cell_type": "markdown",
   "id": "362ae977",
   "metadata": {},
   "source": [
    "test test"
   ]
  },
  {
   "attachments": {},
   "cell_type": "markdown",
   "id": "123456",
   "metadata": {},
   "source": [
    "# 1 Getting ready\n"
   ]
  },
  {
   "attachments": {},
   "cell_type": "markdown",
   "id": "123456",
   "metadata": {},
   "source": [
    "# 2 Getting started with Jupyter"
   ]
  },
  {
   "attachments": {},
   "cell_type": "markdown",
   "id": "123456",
   "metadata": {},
   "source": [
    "## 2.1 It is all about running cells"
   ]
  },
  {
   "cell_type": "code",
   "execution_count": 7,
   "id": "d1a2aa68",
   "metadata": {},
   "outputs": [
    {
     "name": "stdout",
     "output_type": "stream",
     "text": [
      "hello \n",
      "hello hello hello hello hello hello hello hello hello hello \n",
      "hello world\n"
     ]
    }
   ],
   "source": [
    "print('hello ')\n",
    "\n",
    "print('hello '*10)\n",
    "\n",
    "print('hello world')\n"
   ]
  },
  {
   "attachments": {},
   "cell_type": "markdown",
   "id": "123456",
   "metadata": {},
   "source": [
    "## 2.2 A traditional start"
   ]
  },
  {
   "cell_type": "code",
   "execution_count": null,
   "id": "8e7cb6a5",
   "metadata": {},
   "outputs": [
    {
     "name": "stdout",
     "output_type": "stream",
     "text": [
      "hello world\n",
      "test test \n"
     ]
    }
   ],
   "source": [
    "11+1\n",
    "#question for professor, may I please ask why \"12\" isnt printed out here but is done so in the next cell?\n",
    "print(\"hello world\")\n",
    "print('test test ')"
   ]
  },
  {
   "cell_type": "code",
   "execution_count": 2,
   "id": "489e38f3",
   "metadata": {},
   "outputs": [
    {
     "data": {
      "text/plain": [
       "14"
      ]
     },
     "execution_count": 2,
     "metadata": {},
     "output_type": "execute_result"
    }
   ],
   "source": [
    "11+1\n",
    "\n",
    "12+2"
   ]
  },
  {
   "attachments": {},
   "cell_type": "markdown",
   "id": "123456",
   "metadata": {},
   "source": [
    "# 3 All about Markdown"
   ]
  },
  {
   "cell_type": "markdown",
   "id": "0abc5719",
   "metadata": {},
   "source": [
    "*hahaha* is in **italics**\n",
    "\n",
    "# Heading\n",
    "\n",
    "## Subheading"
   ]
  },
  {
   "cell_type": "markdown",
   "id": "db0c4899",
   "metadata": {},
   "source": [
    "#### The ships hung in the sky in much the same way that bricks don’t."
   ]
  },
  {
   "attachments": {},
   "cell_type": "markdown",
   "id": "123456",
   "metadata": {},
   "source": [
    "## 3.1 Rendering Markdown cells"
   ]
  },
  {
   "cell_type": "code",
   "execution_count": null,
   "id": "23df1daf",
   "metadata": {},
   "outputs": [
    {
     "name": "stdout",
     "output_type": "stream",
     "text": [
      "The ships hung in the sky in much the same way that bricks don’t.\n"
     ]
    }
   ],
   "source": [
    "print(\"The ships hung in the sky in much the same way that bricks don’t.\")\n",
    "#test test"
   ]
  },
  {
   "attachments": {},
   "cell_type": "markdown",
   "id": "123456",
   "metadata": {},
   "source": [
    "## 3.2 Some basic syntax"
   ]
  },
  {
   "cell_type": "code",
   "execution_count": 4,
   "id": "5efdfb7d",
   "metadata": {},
   "outputs": [
    {
     "name": "stdout",
     "output_type": "stream",
     "text": [
      "help me\n"
     ]
    }
   ],
   "source": [
    "print(\"help me\")"
   ]
  },
  {
   "cell_type": "markdown",
   "id": "659fcd41",
   "metadata": {},
   "source": [
    "\n",
    "The ships *hung in the sky* in much the same way that **bricks don't.**<sup>1</sup><sub>QUOTE</sub>"
   ]
  },
  {
   "attachments": {},
   "cell_type": "markdown",
   "id": "123456",
   "metadata": {},
   "source": [
    "## 3.3 Headings"
   ]
  },
  {
   "cell_type": "markdown",
   "id": "421d22d2",
   "metadata": {},
   "source": [
    "# big heading\n",
    "## smaller heading\n",
    "### very small heading\n",
    "#### super small heading\n"
   ]
  },
  {
   "attachments": {},
   "cell_type": "markdown",
   "id": "123456",
   "metadata": {},
   "source": [
    "## 3.4 Displaying Code"
   ]
  },
  {
   "cell_type": "markdown",
   "id": "05121cb5",
   "metadata": {},
   "source": [
    "`print('Hello World')`\n",
    "\n",
    "`print('One two three four catch the spider on the wall')`"
   ]
  },
  {
   "cell_type": "markdown",
   "id": "ba4d4080",
   "metadata": {},
   "source": [
    "```python\n",
    "print('Hello World!')\n",
    "```\n",
    "\n",
    "\n",
    "```python\n",
    "print('in a while crocodile')\n",
    "```"
   ]
  },
  {
   "attachments": {},
   "cell_type": "markdown",
   "id": "123456",
   "metadata": {},
   "source": [
    "## 3.5 Links"
   ]
  },
  {
   "cell_type": "markdown",
   "id": "4ac4bac9",
   "metadata": {},
   "source": [
    "[SP2273 Website](https://sps.nus.edu.sg/sp2273)\n",
    "\n",
    "[The Bee Movie](https://en.wikipedia.org/wiki/Bee_Movie)"
   ]
  },
  {
   "attachments": {},
   "cell_type": "markdown",
   "id": "123456",
   "metadata": {},
   "source": [
    "## 3.6 Images"
   ]
  },
  {
   "cell_type": "markdown",
   "id": "6ffb4c87",
   "metadata": {},
   "source": [
    "![](https://nus.edu.sg/images/default-source/base/logo.png)"
   ]
  },
  {
   "cell_type": "markdown",
   "id": "2f9e9d9d",
   "metadata": {},
   "source": [
    "![](https://static.wikia.nocookie.net/beemovie/images/1/11/Barry-B-Benson.png/revision/latest/scale-to-width-down/340?cb=20190513100654)"
   ]
  },
  {
   "attachments": {},
   "cell_type": "markdown",
   "id": "123456",
   "metadata": {},
   "source": [
    "## 3.7 Tables"
   ]
  },
  {
   "cell_type": "markdown",
   "id": "86241893",
   "metadata": {},
   "source": [
    "| Movie names     | Rankings | Year of release |\n",
    "|-----------------|----------|-----------------|\n",
    "| The Bee Movie   | 1        | 2007            |\n",
    "| Shrek           | 2        | 2001            |\n",
    "| The Incredibles | 3        | 2004            |"
   ]
  },
  {
   "attachments": {},
   "cell_type": "markdown",
   "id": "123456",
   "metadata": {},
   "source": [
    "## 3.8 Lists"
   ]
  },
  {
   "cell_type": "markdown",
   "id": "d8ddac24",
   "metadata": {},
   "source": [
    "1. Master Yoda\n",
    "1. Luke Skywalker\n",
    "1. Anakin Skywalker"
   ]
  },
  {
   "cell_type": "markdown",
   "id": "56eec76e",
   "metadata": {},
   "source": [
    "1. Master Yoda\n",
    "    1. Was a Jedi\n",
    "    1. Was a bit green\n",
    "1. Luke Skywalker\n",
    "    1. Was a Jedi\n",
    "    1. Is Anakin's son.\n",
    "1. Anakin Skywalker\n",
    "    1. Was a Jedi then became a baddie\n",
    "    1. Is famous for saying 'Luke, I am your father'"
   ]
  },
  {
   "cell_type": "markdown",
   "id": "017581c3",
   "metadata": {},
   "source": [
    "1. Master Yoda\n",
    "    - Was a Jedi\n",
    "    - Was a bit green\n",
    "1. Luke Skywalker\n",
    "    - Was a Jedi\n",
    "    - Is Anakin's son.\n",
    "1. Anakin Skywalker\n",
    "    - Was a Jedi then, became a baddoe\n",
    "    - Is famous for saying, _'Luke, I am your father'_."
   ]
  },
  {
   "cell_type": "markdown",
   "id": "759f4f52",
   "metadata": {},
   "source": [
    "### test test\n",
    "1. master yoda\n",
    "1. luke skywalker\n",
    "1. anakin skywalker\n",
    "\n",
    "\n",
    "- master yoda\n",
    "- luke skywalker\n",
    "- anakin skywalker\n",
    "\n",
    "1. anakin\n",
    "    1. lol\n",
    "    1. help\n",
    "1. meow\n",
    "\n",
    "\n",
    "1. barry b. benson\n",
    "1. shrek\n",
    "1. donkey"
   ]
  },
  {
   "attachments": {},
   "cell_type": "markdown",
   "id": "123456",
   "metadata": {},
   "source": [
    "## 3.9 Equations"
   ]
  },
  {
   "cell_type": "markdown",
   "id": "7a29be50",
   "metadata": {},
   "source": [
    "$\\sqrt{b^2-4ac}$"
   ]
  },
  {
   "cell_type": "markdown",
   "id": "8e6dadfe",
   "metadata": {},
   "source": [
    "$$\n",
    "x = \\dfrac{-b \\pm \\sqrt{b^2-4ac}}{2ac}\n",
    "$$"
   ]
  },
  {
   "cell_type": "markdown",
   "id": "9f6dcae5",
   "metadata": {},
   "source": [
    "$\\dfrac{y}{x}$\n",
    "\n",
    "$\\dfrac{10}{2}$\n",
    "\n",
    "$\\dfrac{9}{2}$"
   ]
  },
  {
   "cell_type": "markdown",
   "id": "8d1f2d0e",
   "metadata": {},
   "source": [
    "$x_{a}$\n",
    "\n",
    "$log_{10}$ $y_{1000000}$"
   ]
  },
  {
   "cell_type": "markdown",
   "id": "1d3be55b",
   "metadata": {},
   "source": [
    "$x^{(y+z)}$\n",
    "\n",
    "$10^{(9+2)}$\n",
    "\n",
    "$9^{(10*2/3)}$\n",
    "\n",
    "$10^{(10922019abcd)}$"
   ]
  },
  {
   "cell_type": "markdown",
   "id": "6f01efd0",
   "metadata": {},
   "source": [
    "$\\sqrt{a+b+c}$\n",
    "\n",
    "$\\sqrt{100 + 3239 - 2736}$"
   ]
  },
  {
   "cell_type": "markdown",
   "id": "8318e21b",
   "metadata": {},
   "source": [
    "$\\sum_{n=1}^{n=\\infty} x_n$\n",
    "\n",
    "$\\sum_{n-4}^{n=\\infty} x_n$"
   ]
  },
  {
   "cell_type": "markdown",
   "id": "c2fbd213",
   "metadata": {},
   "source": [
    "$\\int_{x=1}^{x=\\infty} f(x)dx$\n",
    "\n",
    "$\\int_{x=5}^{x=\\infty} f(x)dx$"
   ]
  },
  {
   "cell_type": "markdown",
   "id": "639185b4",
   "metadata": {},
   "source": [
    "$a \\ne b$\n",
    "\n",
    "$10 \\ne 3$\n",
    "\n",
    "\n",
    "$10 \\ne 4$\n",
    "\n",
    "$5 \\ne 6$"
   ]
  },
  {
   "cell_type": "markdown",
   "id": "7a1a39af",
   "metadata": {},
   "source": [
    "$a \\lt b$\n",
    "\n",
    "$10 \\lt 60$\n",
    "\n",
    "$5 \\lt 121212$"
   ]
  },
  {
   "cell_type": "markdown",
   "id": "99ca0359",
   "metadata": {},
   "source": [
    "$a \\leq b$\n",
    "\n",
    "$ 12 \\leq 112$"
   ]
  },
  {
   "cell_type": "markdown",
   "id": "39fe8bf9",
   "metadata": {},
   "source": [
    "$a \\gt b$\n",
    "\n",
    "$a \\geq b$\n",
    "\n",
    "$\\alpha, \\beta. \\gamma, \\pi, \\lambda$"
   ]
  },
  {
   "attachments": {},
   "cell_type": "markdown",
   "id": "123456",
   "metadata": {},
   "source": [
    "## Footnotes"
   ]
  }
 ],
 "metadata": {
  "kernelspec": {
   "display_name": "base",
   "language": "python",
   "name": "python3"
  },
  "language_info": {
   "codemirror_mode": {
    "name": "ipython",
    "version": 3
   },
   "file_extension": ".py",
   "mimetype": "text/x-python",
   "name": "python",
   "nbconvert_exporter": "python",
   "pygments_lexer": "ipython3",
   "version": "3.13.5"
  },
  "toc": {
   "base_numbering": 1,
   "nav_menu": {},
   "number_sections": true,
   "sideBar": true,
   "skip_h1_title": false,
   "title_cell": "Table of Contents",
   "title_sidebar": "Contents",
   "toc_cell": false,
   "toc_position": {},
   "toc_section_display": true,
   "toc_window_display": false
  }
 },
 "nbformat": 4,
 "nbformat_minor": 5
}
