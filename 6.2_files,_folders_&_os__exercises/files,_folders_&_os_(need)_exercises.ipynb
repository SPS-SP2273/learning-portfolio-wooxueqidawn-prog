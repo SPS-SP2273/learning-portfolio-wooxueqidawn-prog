{
 "cells": [
  {
   "attachments": {},
   "cell_type": "markdown",
   "id": "123456",
   "metadata": {},
   "source": [
    "<div style=\"text-align:left;font-size:2em\"><span style=\"font-weight:bolder;font-size:1.25em\">SP2273 | Learning Portfolio</span><br><br><span style=\"font-weight:bold;color:darkred\">Files, Folders & OS (Need) Exercises</span></div>"
   ]
  },
  {
   "cell_type": "markdown",
   "id": "f4d9b10e",
   "metadata": {},
   "source": [
    "## Exercise 1 task 1"
   ]
  },
  {
   "cell_type": "markdown",
   "id": "050b132f",
   "metadata": {},
   "source": [
    "Data Files: Each data file is named in the format month-date_city.txt (e.g., may-10_singapore.txt).\n",
    "Data Collection: Data was recorded sporadically; not all days of each month have corresponding data files. The dates of data collection vary across the cities.\n",
    "Exclusion of Files: Ignore any non-text files, such as those in .pdf, .png, or .jpg formats."
   ]
  },
  {
   "cell_type": "code",
   "execution_count": 6,
   "id": "b9d7852e",
   "metadata": {},
   "outputs": [
    {
     "name": "stdout",
     "output_type": "stream",
     "text": [
      "10-08-singapore.txt\n"
     ]
    }
   ],
   "source": [
    "months = {\n",
    "'jan': '01', 'feb': '02', 'mar': '03',\n",
    "'apr': '04', 'may': '05', 'jun': '06',\n",
    "'jul': '07', 'aug': '08', 'sep': '09',\n",
    "'oct': '10', 'nov': '11', 'dec': '12'\n",
    "}\n",
    "\n",
    "x = \"oct-08_singapore.txt\"\n",
    "# month,date = x.split(\"-\")\n",
    "\n",
    "month,datef = x.split(\"-\")\n",
    "#print(month)\n",
    "#print(datef)\n",
    "\n",
    "date,location = datef.split(\"_\")\n",
    "#print(date)\n",
    "#print(location)\n",
    "print(months[month]+\"-\"+date + \"-\"+location)"
   ]
  },
  {
   "cell_type": "code",
   "execution_count": null,
   "id": "f3d101cf",
   "metadata": {},
   "outputs": [
    {
     "name": "stdout",
     "output_type": "stream",
     "text": [
      "1\n",
      "2\n"
     ]
    }
   ],
   "source": [
    "# extra exercise\n",
    "[1,2]\n",
    "a,b = [1,2]\n",
    "print(a)\n",
    "print(b)\n"
   ]
  },
  {
   "cell_type": "markdown",
   "id": "0977c40f",
   "metadata": {},
   "source": [
    "## Exercise 1 task 2"
   ]
  },
  {
   "cell_type": "code",
   "execution_count": null,
   "id": "c613eaa1",
   "metadata": {},
   "outputs": [
    {
     "name": "stdout",
     "output_type": "stream",
     "text": [
      "08-29-NewYork\n"
     ]
    }
   ],
   "source": [
    "def rename_my_file(old_file_name):\n",
    "    months = {\n",
    "        'jan': '01', 'feb': '02', 'mar': '03',\n",
    "        'apr': '04', 'may': '05', 'jun': '06',\n",
    "        'jul': '07', 'aug': '08', 'sep': '09',\n",
    "        'oct': '10', 'nov': '11', 'dec': '12'\n",
    "    }\n",
    "\n",
    "    month, datef = str(old_file_name).split(\"-\")\n",
    "    date, location = datef.split(\"_\")\n",
    "\n",
    "    new_file_name = months[month] + \"-\" + date + \"-\" + location\n",
    "    print(new_file_name)\n",
    "\n",
    "\n",
    "rename_my_file(\"aug-29_NewYork\")\n"
   ]
  },
  {
   "cell_type": "markdown",
   "id": "79a05bd9",
   "metadata": {},
   "source": [
    "## Exercise 1 task 3"
   ]
  },
  {
   "cell_type": "code",
   "execution_count": 49,
   "id": "b0a4f7fb",
   "metadata": {},
   "outputs": [
    {
     "name": "stdout",
     "output_type": "stream",
     "text": [
      "oct-08_singapore.txt ----> 10-08-singapore.txt\n",
      "jul-10_cairo.txt ----> 07-10-cairo.txt\n",
      "may-15_dhaka.txt ----> 05-15-dhaka.txt\n",
      "may-13_cairo.txt ----> 05-13-cairo.txt\n",
      "oct-21_cairo.txt ----> 10-21-cairo.txt\n",
      "jan-10_singapore.txt ----> 01-10-singapore.txt\n",
      "jun-20_tokyo.txt ----> 06-20-tokyo.txt\n",
      "aug-06_jakarta.txt ----> 08-06-jakarta.txt\n",
      "dec-21_karachi.txt ----> 12-21-karachi.txt\n",
      "jan-01_tokyo.txt ----> 01-01-tokyo.txt\n"
     ]
    }
   ],
   "source": [
    "x = ['oct-08_singapore.txt', 'jul-10_cairo.txt', 'may-15_dhaka.txt',\n",
    " 'may-13_cairo.txt', 'oct-21_cairo.txt', 'jan-10_singapore.txt',\n",
    " 'jun-20_tokyo.txt', 'aug-06_jakarta.txt', 'dec-21_karachi.txt',\n",
    " 'jan-01_tokyo.txt']\n",
    "for i in range(0,len(x)):\n",
    "    def rename_my_file(old_file_name):\n",
    "        months = {\n",
    "            'jan': '01', 'feb': '02', 'mar': '03',\n",
    "            'apr': '04', 'may': '05', 'jun': '06',\n",
    "            'jul': '07', 'aug': '08', 'sep': '09',\n",
    "            'oct': '10', 'nov': '11', 'dec': '12'\n",
    "        }\n",
    "\n",
    "        month, datef = str(old_file_name).split(\"-\")\n",
    "        date, location = datef.split(\"_\")\n",
    "\n",
    "        new_file_name = months[month] + \"-\" + date + \"-\" + location\n",
    "        print(old_file_name, \"---->\", new_file_name)\n",
    "    rename_my_file(x[0])\n",
    "    del x[0]\n"
   ]
  },
  {
   "cell_type": "markdown",
   "id": "9d825048",
   "metadata": {},
   "source": [
    "## Exercise 1 task 4"
   ]
  },
  {
   "cell_type": "code",
   "execution_count": 2,
   "id": "ad25d63d",
   "metadata": {},
   "outputs": [],
   "source": [
    "import os\n",
    "import glob\n",
    "\n",
    "\n",
    "original_files = glob.glob('*/*.txt')\n",
    "for i in range(0,len(original_files)):\n",
    "    def rename_my_file(old_file_name):\n",
    "        months = {\n",
    "            'jan': '01', 'feb': '02', 'mar': '03',\n",
    "            'apr': '04', 'may': '05', 'jun': '06',\n",
    "            'jul': '07', 'aug': '08', 'sep': '09',\n",
    "            'oct': '10', 'nov': '11', 'dec': '12'\n",
    "        }\n",
    "        extra, needed = str(old_file_name).split(\"/\")\n",
    "        month, datef = needed.split(\"-\")\n",
    "        date, location = datef.split(\"_\")\n",
    "\n",
    "        new_file_name = months[month] + \"-\" + date + \"-\" + location\n",
    "        #print(old_file_name, \"---->\", new_file_name)\n",
    "        os.rename(old_file_name, new_file_name)\n",
    "    rename_my_file(original_files[0])\n",
    "    del original_files[0]\n"
   ]
  },
  {
   "cell_type": "markdown",
   "id": "19df9f49",
   "metadata": {},
   "source": [
    "## Exercise 1 task 5"
   ]
  },
  {
   "cell_type": "code",
   "execution_count": 12,
   "id": "d8df51f5",
   "metadata": {},
   "outputs": [],
   "source": [
    "important = ['Cairo', 'Dhaka', 'Jakarta', 'Karachi', 'Manila',\n",
    " 'Melbourne', 'Osaka', 'Shanghai', 'Singapore', 'Tokyo']\n",
    "for i in range(0,len(important)):\n",
    "    os.mkdir(important[0])\n",
    "    del important[0]"
   ]
  },
  {
   "cell_type": "markdown",
   "id": "006bbd62",
   "metadata": {},
   "source": [
    "## Exercise 1 task 6"
   ]
  },
  {
   "cell_type": "code",
   "execution_count": 6,
   "id": "fd96618d",
   "metadata": {},
   "outputs": [],
   "source": [
    "import os\n",
    "import shutil\n",
    "Cairo_things = glob.glob('*cairo.txt')\n",
    "for cario_texts in Cairo_things:\n",
    "    path = os.path.join('Cairo', cario_texts)\n",
    "    shutil.copy(Cairo_things[0],path)\n",
    "    del Cairo_things[0]\n",
    "    \n",
    "\n"
   ]
  },
  {
   "cell_type": "markdown",
   "id": "92de4342",
   "metadata": {},
   "source": [
    "## Exercise 1 task 7"
   ]
  },
  {
   "cell_type": "code",
   "execution_count": null,
   "id": "064a2cd6",
   "metadata": {},
   "outputs": [],
   "source": [
    "import os\n",
    "import shutil\n",
    "Dhaka_things = glob.glob('*dhaka.txt')\n",
    "for dhaka_texts in Dhaka_things:\n",
    "    path = os.path.join('Dhaka', dhaka_texts)\n",
    "    shutil.move(Dhaka_things[0],path)\n",
    "    del Dhaka_things[0]\n",
    "    # testing on my own\n",
    "\n",
    "Osaka_things = glob.glob('*osaka.txt')\n",
    "for osaka_texts in Osaka_things:\n",
    "    path = os.path.join('Osaka', osaka_texts)\n",
    "    shutil.move(Osaka_things[0],path)\n",
    "    del Osaka_things[0]\n",
    "\n",
    "\n",
    "Manila_things = glob.glob('*manila.txt')\n",
    "for manila_texts in Manila_things:\n",
    "    path = os.path.join('Manila', manila_texts)\n",
    "    shutil.copy(Manila_things[0],path)\n",
    "    del Manila_things[0] \n",
    "\n",
    " \n"
   ]
  },
  {
   "cell_type": "code",
   "execution_count": 22,
   "id": "f6fe6f25",
   "metadata": {},
   "outputs": [],
   "source": [
    "Tokyo_things = glob.glob('*tokyo.txt')\n",
    "for tokyo_texts in Tokyo_things:\n",
    "    path = os.path.join('Tokyo', tokyo_texts)\n",
    "    shutil.move(Tokyo_things[0],path)\n",
    "    del Tokyo_things[0]\n",
    "  "
   ]
  },
  {
   "cell_type": "code",
   "execution_count": 23,
   "id": "76e038c7",
   "metadata": {},
   "outputs": [],
   "source": [
    "Singapore_things = glob.glob('*singapore.txt')\n",
    "for singapore_texts in Singapore_things:\n",
    "    path = os.path.join('Singapore', singapore_texts)\n",
    "    shutil.move(Singapore_things[0],path)\n",
    "    del Singapore_things[0]\n",
    "  "
   ]
  },
  {
   "cell_type": "code",
   "execution_count": 25,
   "id": "b8a2b44c",
   "metadata": {},
   "outputs": [],
   "source": [
    "Jakarta_things = glob.glob('*jakarta.txt')\n",
    "for jakarta_texts in Jakarta_things:\n",
    "    path = os.path.join('Jakarta', jakarta_texts)\n",
    "    shutil.move(Jakarta_things[0],path)\n",
    "    del Jakarta_things[0]\n",
    "  "
   ]
  },
  {
   "cell_type": "code",
   "execution_count": 26,
   "id": "a7e2707e",
   "metadata": {},
   "outputs": [],
   "source": [
    "Karachi_things = glob.glob('*karachi.txt')\n",
    "for karachi_texts in Karachi_things:\n",
    "    path = os.path.join('Karachi', karachi_texts)\n",
    "    shutil.move(Karachi_things[0],path)\n",
    "    del Karachi_things[0]\n",
    "  "
   ]
  },
  {
   "cell_type": "code",
   "execution_count": 27,
   "id": "9a3e0db8",
   "metadata": {},
   "outputs": [],
   "source": [
    "Melbourne_things = glob.glob('*melbourne.txt')\n",
    "for melbourne_texts in Melbourne_things:\n",
    "    path = os.path.join('Melbourne', melbourne_texts)\n",
    "    shutil.move(Melbourne_things[0],path)\n",
    "    del Melbourne_things[0]\n",
    "  "
   ]
  },
  {
   "cell_type": "code",
   "execution_count": 29,
   "id": "b32d6d44",
   "metadata": {},
   "outputs": [],
   "source": [
    "Shanghai_things = glob.glob('*shanghai.txt')\n",
    "for Shanghai_texts in Shanghai_things:\n",
    "    path = os.path.join('Shanghai', Shanghai_texts)\n",
    "    shutil.move(Shanghai_things[0],path)\n",
    "    del Shanghai_things[0]\n",
    "  "
   ]
  }
 ],
 "metadata": {
  "kernelspec": {
   "display_name": "base",
   "language": "python",
   "name": "python3"
  },
  "language_info": {
   "codemirror_mode": {
    "name": "ipython",
    "version": 3
   },
   "file_extension": ".py",
   "mimetype": "text/x-python",
   "name": "python",
   "nbconvert_exporter": "python",
   "pygments_lexer": "ipython3",
   "version": "3.13.5"
  },
  "toc": {
   "base_numbering": 1,
   "nav_menu": {},
   "number_sections": true,
   "sideBar": true,
   "skip_h1_title": false,
   "title_cell": "Table of Contents",
   "title_sidebar": "Contents",
   "toc_cell": false,
   "toc_position": {},
   "toc_section_display": true,
   "toc_window_display": false
  }
 },
 "nbformat": 4,
 "nbformat_minor": 5
}
