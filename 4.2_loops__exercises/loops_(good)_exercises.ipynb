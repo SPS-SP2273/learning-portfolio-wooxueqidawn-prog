{
 "cells": [
  {
   "attachments": {},
   "cell_type": "markdown",
   "id": "123456",
   "metadata": {},
   "source": [
    "<div style=\"text-align:left;font-size:2em\"><span style=\"font-weight:bolder;font-size:1.25em\">SP2273 | Learning Portfolio</span><br><br><span style=\"font-weight:bold;color:darkred\">Loops (Good) Exercises</span></div>"
   ]
  },
  {
   "cell_type": "markdown",
   "id": "4fbe8cfa",
   "metadata": {},
   "source": [
    "## Exercise 1"
   ]
  },
  {
   "cell_type": "markdown",
   "id": "8f617fed",
   "metadata": {},
   "source": [
    "### edited it"
   ]
  },
  {
   "cell_type": "code",
   "execution_count": 1,
   "id": "4ee9210a",
   "metadata": {},
   "outputs": [
    {
     "name": "stdout",
     "output_type": "stream",
     "text": [
      "[1, 9, 25, 49, 81]\n"
     ]
    }
   ],
   "source": [
    "k = []\n",
    "for number in range(10):\n",
    "    if number % 2 == 0:\n",
    "        continue\n",
    "    number = number**2\n",
    "    k.append(number)\n",
    "print(k)"
   ]
  },
  {
   "cell_type": "markdown",
   "id": "bac25be6",
   "metadata": {},
   "source": [
    "## Exercise 2"
   ]
  },
  {
   "cell_type": "code",
   "execution_count": 9,
   "id": "56e929d7",
   "metadata": {},
   "outputs": [
    {
     "name": "stdout",
     "output_type": "stream",
     "text": [
      "[1, 9, 25, 49, 81]\n"
     ]
    }
   ],
   "source": [
    "x = [number**2 for number in range(10) if (number**2) % 2 != 0]\n",
    "print(x)\n"
   ]
  },
  {
   "cell_type": "markdown",
   "id": "73f6a1d5",
   "metadata": {},
   "source": [
    "## edited the above code "
   ]
  },
  {
   "cell_type": "markdown",
   "id": "f38de6ef",
   "metadata": {},
   "source": [
    "## Exercise 3"
   ]
  },
  {
   "cell_type": "code",
   "execution_count": 13,
   "id": "c0c058e8",
   "metadata": {},
   "outputs": [
    {
     "name": "stdout",
     "output_type": "stream",
     "text": [
      "287 ns ± 2.19 ns per loop (mean ± std. dev. of 7 runs, 1,000,000 loops each)\n"
     ]
    }
   ],
   "source": [
    "%%timeit\n",
    "k = []\n",
    "for number in range(10):\n",
    "    if number % 2 == 0:\n",
    "        continue\n",
    "    number = number**2\n",
    "    k.append(number)\n",
    "\n"
   ]
  },
  {
   "cell_type": "code",
   "execution_count": 2,
   "id": "dff96d4d",
   "metadata": {},
   "outputs": [
    {
     "name": "stdout",
     "output_type": "stream",
     "text": [
      "254 ns ± 4.34 ns per loop (mean ± std. dev. of 7 runs, 1,000,000 loops each)\n"
     ]
    }
   ],
   "source": [
    "%%timeit\n",
    "x = [number**2 for number in range(10) if number % 2 != 0]\n"
   ]
  },
  {
   "cell_type": "markdown",
   "id": "6d853806",
   "metadata": {},
   "source": [
    "The second code, that uses the list comprehension, is faster."
   ]
  },
  {
   "cell_type": "markdown",
   "id": "445d2840",
   "metadata": {},
   "source": [
    "## Exercise 4"
   ]
  },
  {
   "cell_type": "code",
   "execution_count": 35,
   "id": "b6d1c4ee",
   "metadata": {},
   "outputs": [
    {
     "name": "stdout",
     "output_type": "stream",
     "text": [
      "14\n"
     ]
    }
   ],
   "source": [
    "number = 100\n",
    "years = 0\n",
    "while True:\n",
    "    years += 1\n",
    "    number -= number*(5/100)\n",
    "    if number < 50: break\n",
    "print(years)"
   ]
  },
  {
   "cell_type": "markdown",
   "id": "80510741",
   "metadata": {},
   "source": [
    "## Exercise 5"
   ]
  },
  {
   "cell_type": "code",
   "execution_count": 60,
   "id": "522bafa7",
   "metadata": {},
   "outputs": [
    {
     "name": "stdout",
     "output_type": "stream",
     "text": [
      "Year is: 2015 and the corresponding change in PPM between this and the following year is:  3.410000000000025\n"
     ]
    }
   ],
   "source": [
    "co2_data = [\n",
    "    (2000, 369.55), (2001, 371.14), (2002, 373.28), \n",
    "    (2003, 375.80), (2004, 377.52), (2005, 379.80), \n",
    "    (2006, 381.90), (2007, 383.79), (2008, 385.60), \n",
    "    (2009, 387.43), (2010, 389.90), (2011, 391.65), \n",
    "    (2012, 393.85), (2013, 396.52), (2014, 398.65),\n",
    "    (2015, 400.83), (2016, 404.24), (2017, 406.55), \n",
    "    (2018, 408.52), (2019, 411.44), (2020, 414.24)\n",
    "]\n",
    "\n",
    "for i in range(20):\n",
    "    if co2_data[1][1]-co2_data[0][1] >= 3:\n",
    "        print(\"Year is:\", co2_data[0][0], \n",
    "        \"and the corresponding change in PPM between this and the following year is: \",\n",
    "        co2_data[1][1]-co2_data[0][1])\n",
    "        del co2_data[0]\n",
    "    else:\n",
    "        del co2_data[0]\n",
    "        \n"
   ]
  },
  {
   "cell_type": "markdown",
   "id": "4d0ab7f7",
   "metadata": {},
   "source": [
    "## edited work"
   ]
  },
  {
   "cell_type": "code",
   "execution_count": 19,
   "id": "504c8812",
   "metadata": {},
   "outputs": [
    {
     "name": "stdout",
     "output_type": "stream",
     "text": [
      "Year is: 2016 and the corresponding change in PPM is: 3.41\n"
     ]
    }
   ],
   "source": [
    "co2_data = [\n",
    "    (2000, 369.55), (2001, 371.14), (2002, 373.28), \n",
    "    (2003, 375.80), (2004, 377.52), (2005, 379.80), \n",
    "    (2006, 381.90), (2007, 383.79), (2008, 385.60), \n",
    "    (2009, 387.43), (2010, 389.90), (2011, 391.65), \n",
    "    (2012, 393.85), (2013, 396.52), (2014, 398.65),\n",
    "    (2015, 400.83), (2016, 404.24), (2017, 406.55), \n",
    "    (2018, 408.52), (2019, 411.44), (2020, 414.24)\n",
    "]\n",
    "\n",
    "for year, ppm in co2_data[:-1]:\n",
    "    next_year, next_ppm = co2_data[co2_data.index((year, ppm)) + 1]\n",
    "    difference = next_ppm - ppm\n",
    "    if difference >= 3:\n",
    "        print(\n",
    "            \"Year is:\", year+1,\n",
    "            \"and the corresponding change in PPM is:\",\n",
    "            f\"{difference:.2f}\"\n",
    "        )\n",
    " \n"
   ]
  }
 ],
 "metadata": {
  "kernelspec": {
   "display_name": "base",
   "language": "python",
   "name": "python3"
  },
  "language_info": {
   "codemirror_mode": {
    "name": "ipython",
    "version": 3
   },
   "file_extension": ".py",
   "mimetype": "text/x-python",
   "name": "python",
   "nbconvert_exporter": "python",
   "pygments_lexer": "ipython3",
   "version": "3.13.5"
  },
  "toc": {
   "base_numbering": 1,
   "nav_menu": {},
   "number_sections": true,
   "sideBar": true,
   "skip_h1_title": false,
   "title_cell": "Table of Contents",
   "title_sidebar": "Contents",
   "toc_cell": false,
   "toc_position": {},
   "toc_section_display": true,
   "toc_window_display": false
  }
 },
 "nbformat": 4,
 "nbformat_minor": 5
}
