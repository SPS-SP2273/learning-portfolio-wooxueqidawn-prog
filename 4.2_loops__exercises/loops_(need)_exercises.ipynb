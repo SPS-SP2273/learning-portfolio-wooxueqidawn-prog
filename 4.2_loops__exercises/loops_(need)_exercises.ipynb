{
 "cells": [
  {
   "attachments": {},
   "cell_type": "markdown",
   "id": "123456",
   "metadata": {},
   "source": [
    "<div style=\"text-align:left;font-size:2em\"><span style=\"font-weight:bolder;font-size:1.25em\">SP2273 | Learning Portfolio</span><br><br><span style=\"font-weight:bold;color:darkred\">Loops (Need) Exercises</span></div>"
   ]
  },
  {
   "cell_type": "markdown",
   "id": "5df28a60",
   "metadata": {},
   "source": [
    "## Exercise 1 "
   ]
  },
  {
   "cell_type": "code",
   "execution_count": 66,
   "id": "0a54ae8b",
   "metadata": {},
   "outputs": [
    {
     "name": "stdout",
     "output_type": "stream",
     "text": [
      "0, 32.0\n",
      "5, 41.0\n",
      "10, 50.0\n",
      "15, 59.0\n",
      "20, 68.0\n",
      "25, 77.0\n",
      "30, 86.0\n",
      "35, 95.0\n",
      "40, 104.0\n",
      "50, 122.0\n"
     ]
    }
   ],
   "source": [
    "import numpy as np\n",
    "temperatures_celsius = [\n",
    "    0,5,10,15,20,25,\n",
    "    30,35,40,50\n",
    "]\n",
    "tc_array = np.array(temperatures_celsius)\n",
    "\n",
    "temperature_f = (tc_array * (9/5)) + 32\n",
    "\n",
    "tf_array = np.array(temperature_f)\n",
    "for index, tc in enumerate(temperatures_celsius):\n",
    "    tf = tf_array[index]\n",
    "    print(f\"{tc}, {tf}\")\n",
    "\n",
    "\n"
   ]
  },
  {
   "cell_type": "markdown",
   "id": "999f3ed2",
   "metadata": {},
   "source": [
    "## Exercise 2"
   ]
  },
  {
   "cell_type": "code",
   "execution_count": 87,
   "id": "7cf80b14",
   "metadata": {},
   "outputs": [
    {
     "name": "stdout",
     "output_type": "stream",
     "text": [
      "1: 1\t2\t3\t4\t5\t\n",
      "\n",
      "2: 2\t4\t6\t8\t10\t\n",
      "\n",
      "3: 3\t6\t9\t12\t15\t\n",
      "\n",
      "4: 4\t8\t12\t16\t20\t\n",
      "\n",
      "5: 5\t10\t15\t20\t25\t\n",
      "\n"
     ]
    }
   ],
   "source": [
    "for count, number in enumerate([1, 2, 3, 4, 5],1):\n",
    "    for number2 in [1]:\n",
    "         print(f'{count}: {number * number2}', end='\\t')\n",
    "    for number2 in [2, 3, 4, 5]:\n",
    "        print(f'{number * number2}', end='\\t')\n",
    "\n",
    "\n",
    "    print('\\n')"
   ]
  },
  {
   "cell_type": "markdown",
   "id": "66f4aaa9",
   "metadata": {},
   "source": [
    "## Exercise 3"
   ]
  },
  {
   "cell_type": "code",
   "execution_count": null,
   "id": "91cf7427",
   "metadata": {},
   "outputs": [
    {
     "name": "stdout",
     "output_type": "stream",
     "text": [
      "Experiment 1: Number of heads = 1\n",
      "Experiment 2: Number of heads = 2\n",
      "Experiment 3: Number of heads = 2\n",
      "Experiment 4: Number of heads = 3\n",
      "Experiment 5: Number of heads = 4\n",
      "Experiment 6: Number of heads = 4\n",
      "Experiment 7: Number of heads = 4\n",
      "Experiment 8: Number of heads = 5\n",
      "Experiment 9: Number of heads = 5\n",
      "Experiment 10: Number of heads = 6\n"
     ]
    }
   ],
   "source": [
    "heads = 0\n",
    "tails = 0\n",
    "for count, i in enumerate([1,2,3,4,5,6,7,8,9,10],1):\n",
    "    if np.random.rand(10)[0] < 0.5:\n",
    "        tails += 1\n",
    "    else:\n",
    "        heads += 1\n",
    "\n",
    "    print(f'Experiment {count}: Number of heads = {heads}')"
   ]
  }
 ],
 "metadata": {
  "kernelspec": {
   "display_name": "base",
   "language": "python",
   "name": "python3"
  },
  "language_info": {
   "codemirror_mode": {
    "name": "ipython",
    "version": 3
   },
   "file_extension": ".py",
   "mimetype": "text/x-python",
   "name": "python",
   "nbconvert_exporter": "python",
   "pygments_lexer": "ipython3",
   "version": "3.13.5"
  },
  "toc": {
   "base_numbering": 1,
   "nav_menu": {},
   "number_sections": true,
   "sideBar": true,
   "skip_h1_title": false,
   "title_cell": "Table of Contents",
   "title_sidebar": "Contents",
   "toc_cell": false,
   "toc_position": {},
   "toc_section_display": true,
   "toc_window_display": false
  }
 },
 "nbformat": 4,
 "nbformat_minor": 5
}
