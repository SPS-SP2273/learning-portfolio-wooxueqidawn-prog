{
 "cells": [
  {
   "attachments": {},
   "cell_type": "markdown",
   "id": "123456",
   "metadata": {},
   "source": [
    "<div style=\"text-align:left;font-size:2em\"><span style=\"font-weight:bolder;font-size:1.25em\">SP2273 | Learning Portfolio</span><br><br><span style=\"font-weight:bold;color:darkred\">Functions (Need) Exercises</span></div>"
   ]
  },
  {
   "cell_type": "markdown",
   "id": "cf4ec8ff",
   "metadata": {},
   "source": [
    "## Exercise 1"
   ]
  },
  {
   "cell_type": "code",
   "execution_count": null,
   "id": "165e84c7",
   "metadata": {},
   "outputs": [],
   "source": [
    "def greeting(name):\n",
    "    if name =='Batman':\n",
    "        return 'Hello Batman! So, nice to meet you!'\n",
    "    return f'Hello {name}!'"
   ]
  },
  {
   "cell_type": "markdown",
   "id": "f98b721b",
   "metadata": {},
   "source": [
    "With the return keyword inside, the return value removed from the function, effectively interrupting the run of the function."
   ]
  },
  {
   "cell_type": "markdown",
   "id": "53506386",
   "metadata": {},
   "source": [
    "## Exercise 2"
   ]
  },
  {
   "cell_type": "code",
   "execution_count": 18,
   "id": "00c35d7d",
   "metadata": {},
   "outputs": [
    {
     "data": {
      "text/plain": [
       "'Your BMI category is normal weight.'"
      ]
     },
     "execution_count": 18,
     "metadata": {},
     "output_type": "execute_result"
    }
   ],
   "source": [
    "def calculate_bmi():\n",
    "    weight = float(input(\"Please input your weight (kg)!\"))\n",
    "    height = float(input(\"Please input your height (m)!\"))\n",
    "    BMI = weight / (height**2)\n",
    "    if BMI < 18.5:\n",
    "        return 'Your BMI category is underweight.'\n",
    "    elif BMI < 25 and BMI >= 18.5:\n",
    "        return 'Your BMI category is normal weight.'\n",
    "    elif BMI < 30 and BMI >= 25:\n",
    "        return ' Your BMI category is overweight.'\n",
    "    return 'Your BMI category is obese.'\n",
    "\n",
    "calculate_bmi()"
   ]
  },
  {
   "cell_type": "markdown",
   "id": "784b4b31",
   "metadata": {},
   "source": [
    "## Exercise 3"
   ]
  },
  {
   "cell_type": "code",
   "execution_count": 42,
   "id": "15b3f8f9",
   "metadata": {},
   "outputs": [
    {
     "data": {
      "text/plain": [
       "362880"
      ]
     },
     "execution_count": 42,
     "metadata": {},
     "output_type": "execute_result"
    }
   ],
   "source": [
    "def factorial_calc():\n",
    "    n = 1\n",
    "    x = int(input(\"Please input an integer!\"))\n",
    "    if x > 0:\n",
    "        for i in range(x):\n",
    "            n *= x*(x-1)\n",
    "            x -= 2\n",
    "            if x <= 1:\n",
    "                break\n",
    "        return(n)\n",
    "    else:\n",
    "        return 'Please input a positive integer!'\n",
    "factorial_calc()"
   ]
  }
 ],
 "metadata": {
  "kernelspec": {
   "display_name": "base",
   "language": "python",
   "name": "python3"
  },
  "language_info": {
   "codemirror_mode": {
    "name": "ipython",
    "version": 3
   },
   "file_extension": ".py",
   "mimetype": "text/x-python",
   "name": "python",
   "nbconvert_exporter": "python",
   "pygments_lexer": "ipython3",
   "version": "3.13.5"
  },
  "toc": {
   "base_numbering": 1,
   "nav_menu": {},
   "number_sections": true,
   "sideBar": true,
   "skip_h1_title": false,
   "title_cell": "Table of Contents",
   "title_sidebar": "Contents",
   "toc_cell": false,
   "toc_position": {},
   "toc_section_display": true,
   "toc_window_display": false
  }
 },
 "nbformat": 4,
 "nbformat_minor": 5
}
