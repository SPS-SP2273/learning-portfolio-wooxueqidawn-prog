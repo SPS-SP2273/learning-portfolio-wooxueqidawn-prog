{
 "cells": [
  {
   "attachments": {},
   "cell_type": "markdown",
   "id": "123456",
   "metadata": {},
   "source": [
    "<div style=\"text-align:left;font-size:2em\"><span style=\"font-weight:bolder;font-size:1.25em\">SP2273 | Learning Portfolio</span><br><br><span style=\"font-weight:bold;color:darkred\">Functions (Good) Exercises</span></div>"
   ]
  },
  {
   "cell_type": "markdown",
   "id": "2ae463db",
   "metadata": {},
   "source": [
    "## Exercise 1"
   ]
  },
  {
   "cell_type": "code",
   "execution_count": null,
   "id": "da857364",
   "metadata": {},
   "outputs": [
    {
     "name": "stdout",
     "output_type": "stream",
     "text": [
      "37.4 F\n"
     ]
    }
   ],
   "source": [
    "def convert_celsius():\n",
    "    temperature_celsius = int(input(\"Please give me the temperature in Celsius.\"))\n",
    "    target_scale = input(\n",
    "        \"Please type 'Kelvin' if you wish for the temperature to be returned in Kelvin.\")\n",
    "    if target_scale == \"Kelvin\":\n",
    "        print(temperature_celsius + 273.15, 'K')\n",
    "        return\n",
    "    print(temperature_celsius * (9/5) + 32, 'F' )\n",
    "    return\n",
    "\n",
    "convert_celsius()\n",
    "    "
   ]
  },
  {
   "cell_type": "markdown",
   "id": "0bf15007",
   "metadata": {},
   "source": [
    "## Exercise 2 "
   ]
  },
  {
   "cell_type": "code",
   "execution_count": 16,
   "id": "9a85fb4f",
   "metadata": {},
   "outputs": [
    {
     "name": "stdout",
     "output_type": "stream",
     "text": [
      "0.0 C\n"
     ]
    }
   ],
   "source": [
    "def convert_fahrenheit():\n",
    "    temperature_fahreneit = int(input(\"Please give me the temperature in Farenheit.\"))\n",
    "    target_scale = input(\n",
    "        \"Please type 'Kelvin' if you wish for the temperature to be returned in Kelvin.\")\n",
    "    if target_scale == \"Kelvin\":\n",
    "        print(temperature_fahreneit + 273.15, 'K')\n",
    "        return\n",
    "    print((temperature_fahreneit - 32) * 5/9, 'C' )\n",
    "    return\n",
    "\n",
    "convert_fahrenheit()\n",
    "    "
   ]
  },
  {
   "cell_type": "markdown",
   "id": "4337537f",
   "metadata": {},
   "source": [
    "## Exercise 3"
   ]
  },
  {
   "cell_type": "code",
   "execution_count": 24,
   "id": "106eaf34",
   "metadata": {},
   "outputs": [
    {
     "name": "stdout",
     "output_type": "stream",
     "text": [
      "305.15 K\n"
     ]
    }
   ],
   "source": [
    "def convert_temperature():\n",
    "    x = input('What is the current temperature unit? Input it as \"C\", \"F\", \"K\" ')\n",
    "    if x == 'C':\n",
    "        convert_celsius()\n",
    "        return\n",
    "    elif x == \"F\":\n",
    "        convert_fahrenheit()\n",
    "        return\n",
    "    temperature_kelvin = int(input(\"Please give me the temperature in Kelvin.\"))\n",
    "    target_scale = input(\n",
    "        \"Please type 'Celsius' if you wish for the temperature to be returned in Celsius.\")\n",
    "    if target_scale == \"Celsius\":\n",
    "        print(temperature_kelvin - 273.15, 'C')\n",
    "        return\n",
    "    print((temperature_kelvin - 273.15) * 9/5 + 32, 'C' )\n",
    "    return\n",
    "\n",
    "convert_temperature()"
   ]
  }
 ],
 "metadata": {
  "kernelspec": {
   "display_name": "base",
   "language": "python",
   "name": "python3"
  },
  "language_info": {
   "codemirror_mode": {
    "name": "ipython",
    "version": 3
   },
   "file_extension": ".py",
   "mimetype": "text/x-python",
   "name": "python",
   "nbconvert_exporter": "python",
   "pygments_lexer": "ipython3",
   "version": "3.13.5"
  },
  "toc": {
   "base_numbering": 1,
   "nav_menu": {},
   "number_sections": true,
   "sideBar": true,
   "skip_h1_title": false,
   "title_cell": "Table of Contents",
   "title_sidebar": "Contents",
   "toc_cell": false,
   "toc_position": {},
   "toc_section_display": true,
   "toc_window_display": false
  }
 },
 "nbformat": 4,
 "nbformat_minor": 5
}
