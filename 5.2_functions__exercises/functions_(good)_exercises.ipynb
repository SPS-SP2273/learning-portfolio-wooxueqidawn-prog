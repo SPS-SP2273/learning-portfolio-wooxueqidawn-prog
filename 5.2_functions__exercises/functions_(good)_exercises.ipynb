{
 "cells": [
  {
   "attachments": {},
   "cell_type": "markdown",
   "id": "123456",
   "metadata": {},
   "source": [
    "<div style=\"text-align:left;font-size:2em\"><span style=\"font-weight:bolder;font-size:1.25em\">SP2273 | Learning Portfolio</span><br><br><span style=\"font-weight:bold;color:darkred\">Functions (Good) Exercises</span></div>"
   ]
  },
  {
   "cell_type": "markdown",
   "id": "2ae463db",
   "metadata": {},
   "source": [
    "## Exercise 1"
   ]
  },
  {
   "cell_type": "code",
   "execution_count": 4,
   "id": "da857364",
   "metadata": {},
   "outputs": [
    {
     "name": "stdout",
     "output_type": "stream",
     "text": [
      "73.4 F\n"
     ]
    }
   ],
   "source": [
    "def convert_celsius(temperature_celsius, target_scale = \"Farenheit\"):\n",
    "    if target_scale == \"Kelvin\":\n",
    "        print(temperature_celsius + 273.15, 'K')\n",
    "        return\n",
    "    print(temperature_celsius * (9/5) + 32, 'F' )\n",
    "    return\n",
    "\n",
    "convert_celsius(23)\n",
    "    "
   ]
  },
  {
   "cell_type": "code",
   "execution_count": 5,
   "id": "e31aa7ec",
   "metadata": {},
   "outputs": [
    {
     "name": "stdout",
     "output_type": "stream",
     "text": [
      "276.15 Kelvin\n"
     ]
    }
   ],
   "source": [
    "def convert_celsius(temperature_celsius, target_scale = \"Fahrenheit\"):\n",
    "    kelvin = temperature_celsius + 273.15\n",
    "    fahrenheit = 1.8 * temperature_celsius + 32\n",
    "    if target_scale == \"Kelvin\":\n",
    "        print(kelvin, \"Kelvin\")\n",
    "    else:\n",
    "        print(fahrenheit, \"Fahrenheit\")\n",
    "convert_celsius(3, \"Kelvin\")"
   ]
  },
  {
   "cell_type": "markdown",
   "id": "0bf15007",
   "metadata": {},
   "source": [
    "## Exercise 2 "
   ]
  },
  {
   "cell_type": "code",
   "execution_count": 8,
   "id": "9a85fb4f",
   "metadata": {},
   "outputs": [
    {
     "name": "stdout",
     "output_type": "stream",
     "text": [
      "296.15 K\n"
     ]
    }
   ],
   "source": [
    "def convert_fahrenheit(temperature_fahreneit, target_scale = \"Kelvin\"):\n",
    "    if target_scale == \"Kelvin\":\n",
    "        print(temperature_fahreneit + 273.15, 'K')\n",
    "        return\n",
    "    print((temperature_fahreneit - 32) * 5/9, 'C' )\n",
    "    return\n",
    "\n",
    "convert_fahrenheit(23)\n",
    "    "
   ]
  },
  {
   "cell_type": "markdown",
   "id": "4337537f",
   "metadata": {},
   "source": [
    "## Exercise 3"
   ]
  },
  {
   "cell_type": "code",
   "execution_count": 10,
   "id": "106eaf34",
   "metadata": {},
   "outputs": [
    {
     "name": "stdout",
     "output_type": "stream",
     "text": [
      "73.4 Fahrenheit\n"
     ]
    }
   ],
   "source": [
    "def convert_kelvin(temperature_kelvin, target_dvale = \"Celsius\"):\n",
    "    if target_scale == \"Celsius\":\n",
    "        print(temperature_kelvin - 273.15, 'C')\n",
    "        return\n",
    "    print((temperature_kelvin - 273.15)* 9/5 + 32, 'F')\n",
    "    return\n",
    "\n",
    "\n",
    "def convert_temperature(temperature, source_scale = 'Celsius', target_scale = \"Fahrenheit\"):\n",
    "    if target_scale == \"Kelvin\":\n",
    "        convert_fahrenheit(temperature, target_scale = \"Kelvin\")\n",
    "    elif target_scale == \"Fahrenheit\":\n",
    "        convert_celsius(temperature, target_scale = \"Fahrenheit\")\n",
    "    else:\n",
    "        convert_kelvin(temperature, target_scale = \"Celsius\")\n",
    "       \n",
    "convert_temperature(23)\n",
    "\n"
   ]
  }
 ],
 "metadata": {
  "kernelspec": {
   "display_name": "base",
   "language": "python",
   "name": "python3"
  },
  "language_info": {
   "codemirror_mode": {
    "name": "ipython",
    "version": 3
   },
   "file_extension": ".py",
   "mimetype": "text/x-python",
   "name": "python",
   "nbconvert_exporter": "python",
   "pygments_lexer": "ipython3",
   "version": "3.13.5"
  },
  "toc": {
   "base_numbering": 1,
   "nav_menu": {},
   "number_sections": true,
   "sideBar": true,
   "skip_h1_title": false,
   "title_cell": "Table of Contents",
   "title_sidebar": "Contents",
   "toc_cell": false,
   "toc_position": {},
   "toc_section_display": true,
   "toc_window_display": false
  }
 },
 "nbformat": 4,
 "nbformat_minor": 5
}
