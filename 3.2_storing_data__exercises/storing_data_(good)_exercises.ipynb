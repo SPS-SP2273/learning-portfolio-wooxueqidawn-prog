{
 "cells": [
  {
   "attachments": {},
   "cell_type": "markdown",
   "id": "123456",
   "metadata": {},
   "source": [
    "<div style=\"text-align:left;font-size:2em\"><span style=\"font-weight:bolder;font-size:1.25em\">SP2273 | Learning Portfolio</span><br><br><span style=\"font-weight:bold;color:darkred\">Storing Data (Good) Exercises</span></div>"
   ]
  },
  {
   "cell_type": "markdown",
   "id": "208ae506",
   "metadata": {},
   "source": [
    "## Exercise 1\n",
    "| Term       | Brief description |\n",
    "|------------|-------------------|\n",
    "| Subsetting |Adding certain elements into the array *No, its toselect a subset of the data in a list or array*|\n",
    "| Indexing   |Positioning of the individual elements within the array *No, its to pick a single element, the act of selecting one element*|\n",
    "| Slicing    |Removing certain elements from the array *No, it means selecting a range of elements*|\n",
    "| Masking    |Prevents a certain group of elements from being called *its subseting to ask NumPy to show only those that are TRUE*|\n",
    "\n"
   ]
  },
  {
   "cell_type": "code",
   "execution_count": 7,
   "id": "9f85c0b5",
   "metadata": {},
   "outputs": [
    {
     "name": "stdout",
     "output_type": "stream",
     "text": [
      "[1 1 0 0 1 1 0 0 0 1]\n",
      "[ True  True False False  True  True False False False  True]\n"
     ]
    },
    {
     "data": {
      "text/plain": [
       "array([1, 1, 1, 1, 1])"
      ]
     },
     "execution_count": 7,
     "metadata": {},
     "output_type": "execute_result"
    }
   ],
   "source": [
    "import numpy as np\n",
    "np_array_2d = np.array([[1, \"A\"], [3, \"C\"], [2, \"B\"], [4, \"D\"],\n",
    "                        [5, \"E\"], [7, \"G\"], [6, \"F\"], [8, \"H\"],\n",
    "                        [10, \"J\"], [9, \"I\"]])\n",
    "\n",
    "#print(np_array_2d[:,0]) for checking\n",
    "\n",
    "np_array_2d = np_array_2d[:,0].astype(int)\n",
    "\n",
    "#print(np_array_2d) for checking\n",
    "\n",
    "np_array_2d = np_array_2d % 2\n",
    "\n",
    "print(np_array_2d)\n",
    "\n",
    "print(np_array_2d != 0)\n",
    "mask = np_array_2d !=0\n",
    "np_array_2d[mask]\n",
    "\n"
   ]
  },
  {
   "cell_type": "markdown",
   "id": "452d4cec",
   "metadata": {},
   "source": [
    "## Exercise 3"
   ]
  },
  {
   "cell_type": "code",
   "execution_count": null,
   "id": "8be01800",
   "metadata": {},
   "outputs": [
    {
     "name": "stdout",
     "output_type": "stream",
     "text": [
      "[[ 1  0  1 -1 -1]\n",
      " [ 1 -1  1 -1 -1]\n",
      " [ 1 -1 -1  1 -1]\n",
      " [-1  1  1 -1 -1]\n",
      " [ 1 -1  1 -1  1]]\n"
     ]
    }
   ],
   "source": [
    "p = np.array([[66, 50, 57, -1, -1],\n",
    " [92, -1, 88, -1, -1],\n",
    " [75, -1, -1, 76, -1],\n",
    " [-1, 51, 87, -1, -1],\n",
    " [71, -1, 67, -1, 69]])\n",
    "\n",
    "mask1 = p < 50\n",
    "mask2 = p > 50\n",
    "mask3 = p == 50\n",
    "\n",
    "#print(p[mask1])\n",
    "\n",
    "#print(p[mask2])\n",
    "\n",
    "\n",
    "p[mask2] = 1\n",
    "\n",
    "\n",
    "#print(p)\n",
    "#print(p[mask3])\n",
    "\n",
    "\n",
    "p[mask3] = 0\n",
    "\n",
    "print(p)\n",
    "\n"
   ]
  }
 ],
 "metadata": {
  "kernelspec": {
   "display_name": "base",
   "language": "python",
   "name": "python3"
  },
  "language_info": {
   "codemirror_mode": {
    "name": "ipython",
    "version": 3
   },
   "file_extension": ".py",
   "mimetype": "text/x-python",
   "name": "python",
   "nbconvert_exporter": "python",
   "pygments_lexer": "ipython3",
   "version": "3.13.5"
  },
  "toc": {
   "base_numbering": 1,
   "nav_menu": {},
   "number_sections": true,
   "sideBar": true,
   "skip_h1_title": false,
   "title_cell": "Table of Contents",
   "title_sidebar": "Contents",
   "toc_cell": false,
   "toc_position": {},
   "toc_section_display": true,
   "toc_window_display": false
  }
 },
 "nbformat": 4,
 "nbformat_minor": 5
}
