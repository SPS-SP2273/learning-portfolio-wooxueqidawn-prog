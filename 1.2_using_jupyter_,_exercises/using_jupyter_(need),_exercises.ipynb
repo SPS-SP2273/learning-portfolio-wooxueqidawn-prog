{
 "cells": [
  {
   "attachments": {},
   "cell_type": "markdown",
   "id": "123456",
   "metadata": {},
   "source": [
    "<div style=\"text-align:left;font-size:2em\"><span style=\"font-weight:bolder;font-size:1.25em\">SP2273 | Learning Portfolio</span><br><br><span style=\"font-weight:bold;color:darkred\">Using Jupyter (Need), Exercises</span></div>"
   ]
  },
  {
   "attachments": {},
   "cell_type": "markdown",
   "id": "123456",
   "metadata": {},
   "source": [
    "## 1 Quadratic Equations"
   ]
  },
  {
   "attachments": {},
   "cell_type": "markdown",
   "id": "123456",
   "metadata": {},
   "source": [
    "### Introduction"
   ]
  },
  {
   "cell_type": "markdown",
   "id": "eb5fde11",
   "metadata": {},
   "source": [
    "![](https://upload.wikimedia.org/wikipedia/commons/thumb/f/f8/Polynomialdeg2.svg/600px-Polynomialdeg2.svg.png)\n",
    "\n",
    "*(Image from the [Wikipedia page on Quadratic equations](https://en.wikipedia.org/wiki/Quadratic_equation))*\n",
    "\n",
    "The general form of a quadratic equation is:\n",
    "$$\n",
    "ax^2 + bx +c = 0\n",
    "$$"
   ]
  },
  {
   "attachments": {},
   "cell_type": "markdown",
   "id": "123456",
   "metadata": {},
   "source": [
    "### Solutions"
   ]
  },
  {
   "cell_type": "markdown",
   "id": "d55799bd",
   "metadata": {},
   "source": [
    "Provided $a \\ne 0$, we can use an elementary algebraic method called [completing the square](https://en.wikipedia.org/wiki/Completing_the_square) to show that a quadratic equation has the following solution:\n",
    "$$\n",
    "x = \\dfrac{-b \\pm \\sqrt{b^2-4ac}}{2a}\n",
    "$$"
   ]
  },
  {
   "attachments": {},
   "cell_type": "markdown",
   "id": "123456",
   "metadata": {},
   "source": [
    "### Discriminant"
   ]
  },
  {
   "cell_type": "markdown",
   "id": "ddc7705b",
   "metadata": {},
   "source": [
    "The quantity $\\Delta = b^2 -4ac$ is called the **discriminant** of the equation and decides the nature of its solutions. The table below shows the various possibilities.\n",
    "| Discriminant          |  Roots                        |\n",
    "|:--:|:--|\n",
    "| $\\Delta = b^2 - 4ac =0$|A single solution of $-b/(2a)$|\n",
    "|$\\Delta = b^2 -4ac \\gt 0$ |Two distinct solutions|\n",
    "|$\\Delta = b^2 -4ac \\lt 0$|No real solutions; both are complex|\n"
   ]
  },
  {
   "cell_type": "markdown",
   "id": "4e25e0cb",
   "metadata": {},
   "source": [
    "# Exercise 2\n",
    "1. A Git repository is a place where all my code and files are stored. I can edit my code and files within it. \n",
    "1. Git keeps track of the edit history in the files in our repository.\n",
    "1. A commit is the act of saving your coding work locally onto the cloud.\n",
    "1. A push is the act of syncing up your updates from the code that you made after the commit, onto another local source. One such example is to push your updated code onto Github. \n",
    "1. A pull is the act of the someone extracting your code from the cloud to their local files on example, their own computer. \n",
    "1. GitHub is available on the Internet, and its capable for the containing the Git repositories. GitHub Desktop is the application on your computer that allows you to access the repositories."
   ]
  },
  {
   "cell_type": "markdown",
   "id": "942e2fe5",
   "metadata": {},
   "source": [
    "# Exercise 3\n",
    "$$\n",
    "\\mu = \\dfrac{1}{n} \\sum_{i=1}^{n} x_i\n",
    "$$\n",
    "\n",
    "$$\n",
    "\\sigma = \\sqrt{\\dfrac{1}{n} \\sum_{i=1}^{n} (x_i-\\mu)^2}\n",
    "$$\n",
    "\n",
    "$$\n",
    "r = \\dfrac{\\sum_{i=1}^{n} (x_i-\\mu _{X})(y_i-\\mu _{Y})}{\\sqrt{\\sum_{i=1}^{n} (x_i -\\mu _{X})^2 \\sum_{i=1}^{n} (y_i -\\mu _{Y})^2}}\n",
    "$$\n",
    "\n"
   ]
  }
 ],
 "metadata": {
  "kernelspec": {
   "display_name": "base",
   "language": "python",
   "name": "python3"
  },
  "language_info": {
   "codemirror_mode": {
    "name": "ipython",
    "version": 3
   },
   "file_extension": ".py",
   "mimetype": "text/x-python",
   "name": "python",
   "nbconvert_exporter": "python",
   "pygments_lexer": "ipython3",
   "version": "3.13.5"
  },
  "toc": {
   "base_numbering": 1,
   "nav_menu": {},
   "number_sections": true,
   "sideBar": true,
   "skip_h1_title": false,
   "title_cell": "Table of Contents",
   "title_sidebar": "Contents",
   "toc_cell": false,
   "toc_position": {},
   "toc_section_display": true,
   "toc_window_display": false
  }
 },
 "nbformat": 4,
 "nbformat_minor": 5
}
